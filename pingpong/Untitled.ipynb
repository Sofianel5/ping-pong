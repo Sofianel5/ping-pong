{
 "cells": [
  {
   "cell_type": "code",
   "execution_count": 1,
   "metadata": {},
   "outputs": [],
   "source": [
    "import gym\n",
    "import numpy as np"
   ]
  },
  {
   "cell_type": "code",
   "execution_count": 2,
   "metadata": {},
   "outputs": [
    {
     "name": "stderr",
     "output_type": "stream",
     "text": [
      "/Users/sofiane/anaconda3/lib/python3.7/site-packages/gym/logger.py:30: UserWarning: \u001b[33mWARN: Box bound precision lowered by casting to float32\u001b[0m\n",
      "  warnings.warn(colorize('%s: %s'%('WARN', msg % args), 'yellow'))\n"
     ]
    },
    {
     "name": "stdout",
     "output_type": "stream",
     "text": [
      "Created env: <TimeLimit<CartPoleEnv<CartPole-v0>>>\n"
     ]
    }
   ],
   "source": [
    "env = gym.make('CartPole-v0')\n",
    "print('Created env:', env)"
   ]
  },
  {
   "cell_type": "code",
   "execution_count": 3,
   "metadata": {},
   "outputs": [
    {
     "name": "stdout",
     "output_type": "stream",
     "text": [
      "The starting state is: [ 0.02726022  0.00255448 -0.02164706 -0.01486551]\n"
     ]
    }
   ],
   "source": [
    "state = env.reset()\n",
    "print('The starting state is:', state)"
   ]
  },
  {
   "cell_type": "code",
   "execution_count": 4,
   "metadata": {},
   "outputs": [
    {
     "name": "stdout",
     "output_type": "stream",
     "text": [
      "[ 0.02731131 -0.19225044 -0.02194437  0.27090968] 1.0 False {}\n"
     ]
    }
   ],
   "source": [
    "action = 0\n",
    "state, reward, done, info = env.step(action)\n",
    "print(state, reward, done, info)"
   ]
  },
  {
   "cell_type": "code",
   "execution_count": 7,
   "metadata": {},
   "outputs": [
    {
     "name": "stdout",
     "output_type": "stream",
     "text": [
      "19.0\n",
      "31.0\n"
     ]
    }
   ],
   "source": [
    "def random_rollout(env):\n",
    "    state = env.reset()\n",
    "    \n",
    "    done = False\n",
    "    cumulative_reward = 0\n",
    "\n",
    "    # Keep looping as long as the simulation has not finished.\n",
    "    while not done:\n",
    "        # Choose a random action (either 0 or 1).\n",
    "        action = np.random.choice([0, 1])\n",
    "        \n",
    "        # Take the action in the environment\n",
    "        state, reward, done, _ = env.step(action)\n",
    "        \n",
    "        # Update the cumulative reward.\n",
    "        cumulative_reward += reward\n",
    "    \n",
    "    # Return the cumulative reward.\n",
    "    return cumulative_reward\n",
    "    \n",
    "reward = random_rollout(env)\n",
    "print(reward)\n",
    "reward = random_rollout(env)\n",
    "print(reward)"
   ]
  },
  {
   "cell_type": "code",
   "execution_count": 9,
   "metadata": {},
   "outputs": [
    {
     "name": "stdout",
     "output_type": "stream",
     "text": [
      "The first sample policy got an average reward of 9.37.\n",
      "The second sample policy got an average reward of 28.54.\n"
     ]
    }
   ],
   "source": [
    "def rollout_policy(env, policy):\n",
    "    state = env.reset()\n",
    "    \n",
    "    done = False\n",
    "    cumulative_reward = 0\n",
    "\n",
    "    # EXERCISE: Fill out this function by copying the 'random_rollout' function\n",
    "    # and then modifying it to choose the action using the policy.\n",
    "    # Keep looping as long as the simulation has not finished.\n",
    "    while not done:\n",
    "        action = policy(state)\n",
    "        \n",
    "        # Take the action in the environment.\n",
    "        state, reward, done, _ = env.step(action)\n",
    "        \n",
    "        # Update the cumulative reward.\n",
    "        cumulative_reward += reward\n",
    "\n",
    "\n",
    "    # Return the cumulative reward.\n",
    "    return cumulative_reward\n",
    "\n",
    "def sample_policy1(state):\n",
    "    return 0 if state[0] < 0 else 1\n",
    "\n",
    "def sample_policy2(state):\n",
    "    return 1 if state[0] < 0 else 0\n",
    "\n",
    "reward1 = np.mean([rollout_policy(env, sample_policy1) for _ in range(100)])\n",
    "reward2 = np.mean([rollout_policy(env, sample_policy2) for _ in range(100)])\n",
    "\n",
    "print('The first sample policy got an average reward of {}.'.format(reward1))\n",
    "print('The second sample policy got an average reward of {}.'.format(reward2))\n",
    "\n",
    "assert 5 < reward1 < 15, ('Make sure that rollout_policy computes the action '\n",
    "                          'by applying the policy to the state.')\n",
    "assert 25 < reward2 < 35, ('Make sure that rollout_policy computes the action '\n",
    "                           'by applying the policy to the state.')"
   ]
  },
  {
   "cell_type": "code",
   "execution_count": 10,
   "metadata": {},
   "outputs": [
    {
     "name": "stdout",
     "output_type": "stream",
     "text": [
      "Requirement already up-to-date: ray[rllib] in /Users/sofiane/anaconda3/lib/python3.7/site-packages (0.8.1)\n",
      "Requirement already satisfied, skipping upgrade: funcsigs in /Users/sofiane/anaconda3/lib/python3.7/site-packages (from ray[rllib]) (1.0.2)\n",
      "Requirement already satisfied, skipping upgrade: colorama in /Users/sofiane/anaconda3/lib/python3.7/site-packages (from ray[rllib]) (0.4.1)\n",
      "Requirement already satisfied, skipping upgrade: packaging in /Users/sofiane/anaconda3/lib/python3.7/site-packages (from ray[rllib]) (19.0)\n",
      "Requirement already satisfied, skipping upgrade: cloudpickle in /Users/sofiane/anaconda3/lib/python3.7/site-packages (from ray[rllib]) (1.2.1)\n",
      "Requirement already satisfied, skipping upgrade: pyyaml in /Users/sofiane/anaconda3/lib/python3.7/site-packages (from ray[rllib]) (5.1.1)\n",
      "Requirement already satisfied, skipping upgrade: filelock in /Users/sofiane/anaconda3/lib/python3.7/site-packages (from ray[rllib]) (3.0.12)\n",
      "Requirement already satisfied, skipping upgrade: pytest in /Users/sofiane/anaconda3/lib/python3.7/site-packages (from ray[rllib]) (5.0.1)\n",
      "Requirement already satisfied, skipping upgrade: protobuf>=3.8.0 in /Users/sofiane/anaconda3/lib/python3.7/site-packages (from ray[rllib]) (3.10.0)\n",
      "Requirement already satisfied, skipping upgrade: click in /Users/sofiane/anaconda3/lib/python3.7/site-packages (from ray[rllib]) (7.0)\n",
      "Requirement already satisfied, skipping upgrade: six>=1.0.0 in /Users/sofiane/anaconda3/lib/python3.7/site-packages (from ray[rllib]) (1.12.0)\n",
      "Requirement already satisfied, skipping upgrade: numpy>=1.16 in /Users/sofiane/anaconda3/lib/python3.7/site-packages (from ray[rllib]) (1.16.4)\n",
      "Requirement already satisfied, skipping upgrade: redis>=3.3.2 in /Users/sofiane/anaconda3/lib/python3.7/site-packages (from ray[rllib]) (3.3.11)\n",
      "Requirement already satisfied, skipping upgrade: jsonschema in /Users/sofiane/anaconda3/lib/python3.7/site-packages (from ray[rllib]) (3.0.1)\n",
      "Requirement already satisfied, skipping upgrade: scipy; extra == \"rllib\" in /Users/sofiane/anaconda3/lib/python3.7/site-packages (from ray[rllib]) (1.3.0)\n",
      "Requirement already satisfied, skipping upgrade: lz4; extra == \"rllib\" in /Users/sofiane/anaconda3/lib/python3.7/site-packages (from ray[rllib]) (3.0.2)\n",
      "Requirement already satisfied, skipping upgrade: gym[atari]; extra == \"rllib\" in /Users/sofiane/anaconda3/lib/python3.7/site-packages (from ray[rllib]) (0.15.6)\n",
      "Requirement already satisfied, skipping upgrade: tabulate; extra == \"rllib\" in /Users/sofiane/anaconda3/lib/python3.7/site-packages (from ray[rllib]) (0.8.6)\n",
      "Requirement already satisfied, skipping upgrade: opencv-python-headless; extra == \"rllib\" in /Users/sofiane/anaconda3/lib/python3.7/site-packages (from ray[rllib]) (4.2.0.32)\n",
      "Requirement already satisfied, skipping upgrade: pyparsing>=2.0.2 in /Users/sofiane/anaconda3/lib/python3.7/site-packages (from packaging->ray[rllib]) (2.4.0)\n",
      "Requirement already satisfied, skipping upgrade: py>=1.5.0 in /Users/sofiane/anaconda3/lib/python3.7/site-packages (from pytest->ray[rllib]) (1.8.0)\n",
      "Requirement already satisfied, skipping upgrade: attrs>=17.4.0 in /Users/sofiane/anaconda3/lib/python3.7/site-packages (from pytest->ray[rllib]) (19.1.0)\n",
      "Requirement already satisfied, skipping upgrade: more-itertools>=4.0.0 in /Users/sofiane/anaconda3/lib/python3.7/site-packages (from pytest->ray[rllib]) (7.0.0)\n",
      "Requirement already satisfied, skipping upgrade: atomicwrites>=1.0 in /Users/sofiane/anaconda3/lib/python3.7/site-packages (from pytest->ray[rllib]) (1.3.0)\n",
      "Requirement already satisfied, skipping upgrade: pluggy<1.0,>=0.12 in /Users/sofiane/anaconda3/lib/python3.7/site-packages (from pytest->ray[rllib]) (0.12.0)\n",
      "Requirement already satisfied, skipping upgrade: importlib-metadata>=0.12 in /Users/sofiane/anaconda3/lib/python3.7/site-packages (from pytest->ray[rllib]) (1.4.0)\n",
      "Requirement already satisfied, skipping upgrade: wcwidth in /Users/sofiane/anaconda3/lib/python3.7/site-packages (from pytest->ray[rllib]) (0.1.7)\n",
      "Requirement already satisfied, skipping upgrade: setuptools in /Users/sofiane/anaconda3/lib/python3.7/site-packages (from protobuf>=3.8.0->ray[rllib]) (41.0.1)\n",
      "Requirement already satisfied, skipping upgrade: pyrsistent>=0.14.0 in /Users/sofiane/anaconda3/lib/python3.7/site-packages (from jsonschema->ray[rllib]) (0.14.11)\n",
      "Requirement already satisfied, skipping upgrade: pyglet<=1.5.0,>=1.4.0 in /Users/sofiane/anaconda3/lib/python3.7/site-packages (from gym[atari]; extra == \"rllib\"->ray[rllib]) (1.4.10)\n",
      "Requirement already satisfied, skipping upgrade: atari-py~=0.2.0; extra == \"atari\" in /Users/sofiane/anaconda3/lib/python3.7/site-packages (from gym[atari]; extra == \"rllib\"->ray[rllib]) (0.2.6)\n",
      "Requirement already satisfied, skipping upgrade: opencv-python; extra == \"atari\" in /Users/sofiane/anaconda3/lib/python3.7/site-packages (from gym[atari]; extra == \"rllib\"->ray[rllib]) (4.2.0.32)\n",
      "Requirement already satisfied, skipping upgrade: Pillow; extra == \"atari\" in /Users/sofiane/anaconda3/lib/python3.7/site-packages (from gym[atari]; extra == \"rllib\"->ray[rllib]) (6.1.0)\n",
      "Requirement already satisfied, skipping upgrade: zipp>=0.5 in /Users/sofiane/anaconda3/lib/python3.7/site-packages (from importlib-metadata>=0.12->pytest->ray[rllib]) (0.5.1)\n",
      "Requirement already satisfied, skipping upgrade: future in /Users/sofiane/anaconda3/lib/python3.7/site-packages (from pyglet<=1.5.0,>=1.4.0->gym[atari]; extra == \"rllib\"->ray[rllib]) (0.17.1)\n"
     ]
    }
   ],
   "source": [
    "! pip install -U ray[rllib]\n"
   ]
  },
  {
   "cell_type": "code",
   "execution_count": 11,
   "metadata": {},
   "outputs": [],
   "source": [
    "from __future__ import absolute_import\n",
    "from __future__ import division\n",
    "from __future__ import print_function\n",
    "\n",
    "import gym\n",
    "import ray\n",
    "from ray.rllib.agents.ppo import PPOTrainer, DEFAULT_CONFIG\n",
    "from ray.tune.logger import pretty_print"
   ]
  },
  {
   "cell_type": "code",
   "execution_count": 13,
   "metadata": {},
   "outputs": [
    {
     "name": "stdout",
     "output_type": "stream",
     "text": [
      "Collecting aiohttp\n",
      "\u001b[?25l  Downloading https://files.pythonhosted.org/packages/40/fd/3a595d6467eb31f7b69eb980778567e764b5d93990b4ceb8ddf6079dd776/aiohttp-3.6.2-cp37-cp37m-macosx_10_13_x86_64.whl (642kB)\n",
      "\u001b[K     |████████████████████████████████| 645kB 956kB/s eta 0:00:01\n",
      "\u001b[?25hRequirement already satisfied: psutil in /Users/sofiane/anaconda3/lib/python3.7/site-packages (5.6.3)\n",
      "Requirement already satisfied: setproctitle in /Users/sofiane/anaconda3/lib/python3.7/site-packages (1.1.10)\n",
      "Requirement already satisfied: grpcio in /Users/sofiane/anaconda3/lib/python3.7/site-packages (1.24.1)\n",
      "Collecting async-timeout<4.0,>=3.0 (from aiohttp)\n",
      "  Downloading https://files.pythonhosted.org/packages/e1/1e/5a4441be21b0726c4464f3f23c8b19628372f606755a9d2e46c187e65ec4/async_timeout-3.0.1-py3-none-any.whl\n",
      "Requirement already satisfied: chardet<4.0,>=2.0 in /Users/sofiane/anaconda3/lib/python3.7/site-packages (from aiohttp) (3.0.4)\n",
      "Requirement already satisfied: attrs>=17.3.0 in /Users/sofiane/anaconda3/lib/python3.7/site-packages (from aiohttp) (19.1.0)\n",
      "Collecting multidict<5.0,>=4.5 (from aiohttp)\n",
      "\u001b[?25l  Downloading https://files.pythonhosted.org/packages/81/11/cf4089e39fae757cd9516b57d05b33becd7f574480a17bd41f88c37acbd9/multidict-4.7.4-cp37-cp37m-macosx_10_13_x86_64.whl (48kB)\n",
      "\u001b[K     |████████████████████████████████| 51kB 11.3MB/s eta 0:00:01\n",
      "\u001b[?25hCollecting yarl<2.0,>=1.0 (from aiohttp)\n",
      "\u001b[?25l  Downloading https://files.pythonhosted.org/packages/e2/a9/7f06ccfd82ee4ae46591151fca009c96c0e7834b13e110cc09abdb2ed76e/yarl-1.4.2-cp37-cp37m-macosx_10_13_x86_64.whl (125kB)\n",
      "\u001b[K     |████████████████████████████████| 133kB 2.5MB/s eta 0:00:01\n",
      "\u001b[?25hRequirement already satisfied: six>=1.5.2 in /Users/sofiane/anaconda3/lib/python3.7/site-packages (from grpcio) (1.12.0)\n",
      "Requirement already satisfied: idna>=2.0 in /Users/sofiane/anaconda3/lib/python3.7/site-packages (from yarl<2.0,>=1.0->aiohttp) (2.8)\n",
      "Installing collected packages: async-timeout, multidict, yarl, aiohttp\n",
      "Successfully installed aiohttp-3.6.2 async-timeout-3.0.1 multidict-4.7.4 yarl-1.4.2\n"
     ]
    },
    {
     "name": "stderr",
     "output_type": "stream",
     "text": [
      "2020-02-12 22:51:54,796\tERROR worker.py:688 -- Calling ray.init() again after it has already been called.\n"
     ]
    }
   ],
   "source": [
    "! pip install aiohttp psutil setproctitle grpcio\n",
    "ray.init(num_cpus=3, ignore_reinit_error=True, log_to_driver=False)"
   ]
  },
  {
   "cell_type": "code",
   "execution_count": null,
   "metadata": {},
   "outputs": [],
   "source": []
  }
 ],
 "metadata": {
  "kernelspec": {
   "display_name": "Python 3",
   "language": "python",
   "name": "python3"
  },
  "language_info": {
   "codemirror_mode": {
    "name": "ipython",
    "version": 3
   },
   "file_extension": ".py",
   "mimetype": "text/x-python",
   "name": "python",
   "nbconvert_exporter": "python",
   "pygments_lexer": "ipython3",
   "version": "3.7.3"
  }
 },
 "nbformat": 4,
 "nbformat_minor": 2
}
